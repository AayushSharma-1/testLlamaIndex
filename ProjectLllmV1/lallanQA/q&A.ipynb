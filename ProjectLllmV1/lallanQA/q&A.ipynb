{
 "cells": [
  {
   "cell_type": "code",
   "execution_count": 1,
   "metadata": {},
   "outputs": [],
   "source": [
    "import requests\n",
    "from bs4 import BeautifulSoup\n",
    "import json"
   ]
  },
  {
   "cell_type": "code",
   "execution_count": 10,
   "metadata": {},
   "outputs": [],
   "source": [
    "common_link = 'http://127.0.0.1:8000/chat/123/'"
   ]
  },
  {
   "cell_type": "code",
   "execution_count": 3,
   "metadata": {},
   "outputs": [],
   "source": [
    "response = requests.get('http://127.0.0.1:8000/chat/123/Hello Lallan')"
   ]
  },
  {
   "cell_type": "code",
   "execution_count": 8,
   "metadata": {},
   "outputs": [
    {
     "data": {
      "text/plain": [
       "'{\"123\":\"Hello Lallan\",\"Lallan\":\"Salaam Miya! Hum hain Lucknow Artificial Language and Learning Assistance Network, lekin log pyaar se Lallan kehte hain. Aapko kaise madad kar sakte hain hum?\"}'"
      ]
     },
     "execution_count": 8,
     "metadata": {},
     "output_type": "execute_result"
    }
   ],
   "source": []
  },
  {
   "cell_type": "code",
   "execution_count": 6,
   "metadata": {},
   "outputs": [],
   "source": [
    "questions = [\n",
    "    \"Where is Turkish Gate?\",\n",
    "    \"Family businesses in Lucknow?\",\n",
    "    \"Where is the art gallery situated in Lucknow?\",\n",
    "    \"Fourth Nawab of Awadh\",\n",
    "    \"Writers of Lucknow\",\n",
    "    \"What is Zardozi?\",\n",
    "    \"Tell me about Keshav Dev Temple.\",\n",
    "    \"Patangbazi/kabutarbazi in Lucknow\",\n",
    "    \"Who was Akhtari Pia?\",\n",
    "    \"What is Zarbuland?\",\n",
    "    \"History of Lucknow Mahotsav?\",\n",
    "    \"What is Chappan Hog?\",\n",
    "    \"Where is Mushayara organized usually?\",\n",
    "    \"Products offered in Lucknow Mahotsav?\",\n",
    "    \"BBD\",\n",
    "    \"Beside which river Lucknow city is situated?\",\n",
    "    \"Largest city of Uttar Pradesh?\",\n",
    "    \"Elevation of Lucknow from sea level\",\n",
    "    \"Wizir Ali’s father name is?\",\n",
    "    \"Asia's largest hall without any additional support of beams\",\n",
    "    \"Origin of Lucknow?\",\n",
    "    \"Turkish architecture\",\n",
    "    \"Popular institutions of Lucknow?\",\n",
    "    \"Famous people of Lucknow?\",\n",
    "    \"Who is Salman Akhtar?\",\n",
    "    \"Who is Kailash Nath Kaul?\",\n",
    "    \"Who is the founder of “All India Mir Academy”?\",\n",
    "    \"Famous actors born in Lucknow?\",\n",
    "    \"How is Prakash's Kulfi?\",\n",
    "    \"Where can I find the best kachori in Lucknow?\",\n",
    "    \"Best place to eat chaat in Lucknow\",\n",
    "    \"Who serves the best biryani in Lucknow?\",\n",
    "    \"Where can I get the best paan in Lucknow?\",\n",
    "    \"What is the usual price of biryani?\",\n",
    "    \"Tell me about Tunday Kebabs\",\n",
    "    \"Most famous food?\",\n",
    "    \"Best places to try Malai Makhan?\",\n",
    "    \"Which hospitals provide PMJAY facility?\",\n",
    "    \"List 10 hospitals in Lucknow\",\n",
    "    \"History of Lucknow as per Ramayana?\",\n",
    "    \"Invasion of Saiyid Masud Ghazi\",\n",
    "    \"What was the time when silver coins were used as currency?\",\n",
    "    \"Why Avadh is claimed to be among the most ancient Hindu states?\",\n",
    "    \"When did the East India Company first move in?\",\n",
    "    \"When did Lucknow become?\",\n",
    "    \"Where can I learn music?\",\n",
    "    \"Why Lucknow is called the city of Nawabs?\",\n",
    "    \"What is Factoid?\",\n",
    "    \"When did the Khilafat Movement happen?\",\n",
    "    \"Legend of Lucknow?\",\n",
    "    \"Is it true Lucknow got its name after Lord Laxman?\",\n",
    "    \"Explain Ganga-Yamuni culture\",\n",
    "    \"Where can I buy Chikankari clothes?\",\n",
    "    \"Tell me about HeathTokri, a startup\",\n",
    "    \"Who are TechEagle?\",\n",
    "    \"Who is the founder of KnockSense?\",\n",
    "    \"Best place to do street shopping?\",\n",
    "    \"Where can I get garments at cheap rates?\",\n",
    "    \"Where can I buy PC parts?\",\n",
    "    \"First newspaper of Lucknow?\",\n",
    "    \"Situation of Radio in Lucknow?\",\n",
    "    \"When was Ambedkar Memorial Complex built?\",\n",
    "    \"Who is Kanshi Ram and what did he do for Lucknow?\",\n",
    "    \"Give details about Prerna Kendra\",\n",
    "    \"What is Chunar sandstone?\",\n",
    "    \"Largest dome hall of the world?\",\n",
    "    \"How many halls are there in Bada Imambara?\",\n",
    "    \"Ticket price to visit Imambara?\",\n",
    "    \"Museum in Lucknow\",\n",
    "    \"Tell me about Christ Church\",\n",
    "    \"Where is All Saints Garrison Church located?\",\n",
    "    \"Give details about Sri Venkateshwar Temple\",\n",
    "    \"List some temples to visit in Lucknow?\",\n",
    "    \"Where is Jama Masjid in Lucknow?\",\n",
    "    \"How is Kali Badi Temple?\",\n",
    "    \"Is there any Buddhist temple in Lucknow?\",\n",
    "    \"What is the ticket price of Hussainabad Picture Gallery?\",\n",
    "    \"When was Lok Kala Sanrahalaya founded?\",\n",
    "    \"Who made Gandhi Museum Lucknow?\",\n",
    "    \"Where is Science City in Lucknow?\",\n",
    "    \"List names of parks in Lucknow\",\n",
    "    \"Is there any zoo in Lucknow?\",\n",
    "    \"List some must-visit places in Lucknow.\",\n",
    "    \"What is LSA?\",\n",
    "    \"How is the drainage system managed in Lucknow?\",\n",
    "    \"Tell me about Re Sustainability Limited\",\n",
    "    \"What technology does Lucknow use for sustainable development?\",\n",
    "    \"What is the job of LDA (Lucknow Development Authority)?\",\n",
    "    \"How is Metro in Lucknow?\"\n",
    "]"
   ]
  },
  {
   "cell_type": "code",
   "execution_count": 14,
   "metadata": {},
   "outputs": [],
   "source": [
    "for i in questions:\n",
    "    response = requests.get(common_link + str(i))\n",
    "    with open(r'D:\\ProjectLllmV1\\lallanQA\\ans.json', 'a+' , encoding='utf-8') as f:\n",
    "        json.dump({'question' : i, \"answer\" : response.text}, f , indent=4)"
   ]
  },
  {
   "cell_type": "code",
   "execution_count": 15,
   "metadata": {},
   "outputs": [
    {
     "data": {
      "text/plain": [
       "89"
      ]
     },
     "execution_count": 15,
     "metadata": {},
     "output_type": "execute_result"
    }
   ],
   "source": [
    "len(questions)"
   ]
  },
  {
   "cell_type": "code",
   "execution_count": null,
   "metadata": {},
   "outputs": [],
   "source": [
    "import re"
   ]
  },
  {
   "cell_type": "code",
   "execution_count": null,
   "metadata": {},
   "outputs": [],
   "source": [
    "with open(r\"C:\\Users\\aayus\\Downloads\\lallan_V1_dataset.json\", 'r', encoding='utf-8') as f:\n",
    "    data = f.read()"
   ]
  },
  {
   "cell_type": "code",
   "execution_count": null,
   "metadata": {},
   "outputs": [],
   "source": []
  },
  {
   "cell_type": "code",
   "execution_count": null,
   "metadata": {},
   "outputs": [],
   "source": [
    "for i in re.findall('\\\"prompt\\\":([^,]+)', data):\n",
    "    questions.append(i)"
   ]
  }
 ],
 "metadata": {
  "kernelspec": {
   "display_name": "base",
   "language": "python",
   "name": "python3"
  },
  "language_info": {
   "codemirror_mode": {
    "name": "ipython",
    "version": 3
   },
   "file_extension": ".py",
   "mimetype": "text/x-python",
   "name": "python",
   "nbconvert_exporter": "python",
   "pygments_lexer": "ipython3",
   "version": "3.9.18"
  }
 },
 "nbformat": 4,
 "nbformat_minor": 2
}
